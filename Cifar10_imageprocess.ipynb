{
 "cells": [
  {
   "cell_type": "markdown",
   "metadata": {},
   "source": [
    "# 影像前處理"
   ]
  },
  {
   "cell_type": "markdown",
   "metadata": {},
   "source": [
    "將原始png做成npy(Gray)"
   ]
  },
  {
   "cell_type": "code",
   "execution_count": 1,
   "metadata": {},
   "outputs": [],
   "source": [
    "import numpy as np\n",
    "import os\n",
    "import matplotlib.pyplot as plt \n",
    "import matplotlib.image as mpimg\n",
    "import shutil\n",
    "from scipy import misc\n",
    "from PIL import Image\n",
    "import SimpleITK as sitk\n",
    "import cv2"
   ]
  },
  {
   "cell_type": "code",
   "execution_count": 2,
   "metadata": {},
   "outputs": [],
   "source": [
    "def trans_png2npy(pngdir_path,savedir_path):#step 1\n",
    "    if not os.path.exists(savedir_path):\n",
    "        os.mkdir(savedir_path)\n",
    "    for file in os.listdir(pngdir_path):\n",
    "        filename=file.split('.',1)[0]\n",
    "        filepath=os.path.join(pngdir_path,file)\n",
    "        #img=mpimg.imread(filepath)\n",
    "        img=cv2.imread(filepath,0)\n",
    "        #resimg=cv2.resize(img,(288,288))#if need\n",
    "        #np.save(filename,resimg)\n",
    "        np.save(savedir_path+'/{}.npy'.format(filename),img)\n",
    "        \n",
    "        #shutil.move('{}.npy'.format(filename),savedir_path)"
   ]
  },
  {
   "cell_type": "code",
   "execution_count": 3,
   "metadata": {},
   "outputs": [],
   "source": [
    "pngdir_path='C:/Users/user/Desktop/機器學習/作業二/CIFAR10/train/airplane'\n",
    "savedir_path='C:/Users/user/Desktop/機器學習/作業二/CIFAR10/train/train_npy/airplane_train_npy'\n",
    "trans_png2npy(pngdir_path,savedir_path)"
   ]
  },
  {
   "cell_type": "markdown",
   "metadata": {},
   "source": [
    "轉置矩陣(擴增資料集)"
   ]
  },
  {
   "cell_type": "code",
   "execution_count": 4,
   "metadata": {},
   "outputs": [],
   "source": [
    "def transpose_png(pngdir_path,savedir_path):\n",
    "    if not os.path.exists(savedir_path):\n",
    "        os.mkdir(savedir_path)\n",
    "    for file in sorted(os.listdir(pngdir_path)):\n",
    "        filename=file.split('.',1)[0]\n",
    "        filepath=os.path.join(pngdir_path,file)\n",
    "        #img=cv2.imread(filepath,0)#for png\n",
    "        img=np.load(filepath)#for npy\n",
    "        #img_transpose=img.T #flip\n",
    "        img_transpose=np.rot90(img,-1)#for rotate\n",
    "        \n",
    "        slice_number=filename[-2:]\n",
    "        #print('slice_number:',slice_number)\n",
    "        new_pat=str(int(filename.split('/')[-1][0:3])+375)\n",
    "        #print('new_pat:',new_pat)\n",
    "        new_name=new_pat+slice_number\n",
    "        #print('new_name:',new_name)\n",
    "        np.save(savedir_path+'/{}.npy'.format(new_name),img_transpose)\n",
    "        \n",
    "        #shutil.move('{}.npy'.format(new_name),savedir_path)"
   ]
  },
  {
   "cell_type": "code",
   "execution_count": null,
   "metadata": {},
   "outputs": [],
   "source": [
    "pngdir_path='C:/Users/user/Desktop/機器學習/作業二/CIFAR10/train/train_npy/airplane_train_npy'\n",
    "savedir_path='C:/Users/user/Desktop/機器學習/作業二/npy/airplane_train_npy_transpose'\n",
    "transpose_png(pngdir_path,savedir_path)"
   ]
  }
 ],
 "metadata": {
  "kernelspec": {
   "display_name": "Python 3",
   "language": "python",
   "name": "python3"
  },
  "language_info": {
   "codemirror_mode": {
    "name": "ipython",
    "version": 3
   },
   "file_extension": ".py",
   "mimetype": "text/x-python",
   "name": "python",
   "nbconvert_exporter": "python",
   "pygments_lexer": "ipython3",
   "version": "3.7.6"
  }
 },
 "nbformat": 4,
 "nbformat_minor": 4
}
